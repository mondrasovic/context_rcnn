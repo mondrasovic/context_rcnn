{
 "cells": [
  {
   "cell_type": "code",
   "execution_count": null,
   "metadata": {},
   "outputs": [],
   "source": [
    "import numpy as np\n",
    "import torch\n",
    "import torch.nn as nn\n",
    "import torch.nn.functional as F\n",
    "\n",
    "from PIL import Image\n",
    "from torchvision import transforms as T\n",
    "from torchsummary import summary\n",
    "\n",
    "from src.models import AttentionEmbMapper\n",
    "from src.models import ContextAttention\n",
    "\n",
    "%load_ext autoreload\n",
    "%autoreload 2"
   ]
  },
  {
   "cell_type": "code",
   "execution_count": null,
   "metadata": {},
   "outputs": [],
   "source": [
    "n_proposals = 512\n",
    "batch_size = 4\n",
    "n_channels = 256\n",
    "feature_size = 7\n",
    "emb_dim = 64\n",
    "\n",
    "features = torch.rand(\n",
    "    (n_proposals * batch_size, n_channels, feature_size, feature_size)\n",
    ")\n",
    "input_size = (n_channels, feature_size, feature_size)\n",
    "\n",
    "model = ContextAttention(n_channels).cuda()\n",
    "summary(model, [input_size, input_size])"
   ]
  }
 ],
 "metadata": {
  "interpreter": {
   "hash": "f91a5d6e4747d83f2ca8abaaaf7aacd52eac54e528eee770e3eb228d51a3694d"
  },
  "kernelspec": {
   "display_name": "Python 3.7.9 64-bit (system)",
   "language": "python",
   "name": "python3"
  },
  "language_info": {
   "codemirror_mode": {
    "name": "ipython",
    "version": 3
   },
   "file_extension": ".py",
   "mimetype": "text/x-python",
   "name": "python",
   "nbconvert_exporter": "python",
   "pygments_lexer": "ipython3",
   "version": "3.6.9"
  },
  "orig_nbformat": 4
 },
 "nbformat": 4,
 "nbformat_minor": 2
}
